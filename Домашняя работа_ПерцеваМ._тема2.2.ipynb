{
 "cells": [
  {
   "cell_type": "markdown",
   "id": "755a4ef9",
   "metadata": {},
   "source": [
    "# Пример 2.2.1"
   ]
  },
  {
   "cell_type": "code",
   "execution_count": 1,
   "id": "6062d699",
   "metadata": {},
   "outputs": [],
   "source": [
    "#построим диаграмму рассеяним output vs capital с ‘подогнанной’ прямой\n",
    "import numpy as np # linear algebra \n",
    "import pandas as pd # data processing, CSV file I/O (e.g. pd.read_csv)\n",
    "# stats models: regression fitting\n",
    "import statsmodels.formula.api as smf\n",
    "# data visualization\n",
    "import seaborn as sns"
   ]
  },
  {
   "cell_type": "code",
   "execution_count": 2,
   "id": "c529ff8a",
   "metadata": {},
   "outputs": [
    {
     "data": {
      "text/html": [
       "<div>\n",
       "<style scoped>\n",
       "    .dataframe tbody tr th:only-of-type {\n",
       "        vertical-align: middle;\n",
       "    }\n",
       "\n",
       "    .dataframe tbody tr th {\n",
       "        vertical-align: top;\n",
       "    }\n",
       "\n",
       "    .dataframe thead th {\n",
       "        text-align: right;\n",
       "    }\n",
       "</style>\n",
       "<table border=\"1\" class=\"dataframe\">\n",
       "  <thead>\n",
       "    <tr style=\"text-align: right;\">\n",
       "      <th></th>\n",
       "      <th>capital</th>\n",
       "      <th>labour</th>\n",
       "      <th>output</th>\n",
       "      <th>wage</th>\n",
       "    </tr>\n",
       "  </thead>\n",
       "  <tbody>\n",
       "    <tr>\n",
       "      <th>0</th>\n",
       "      <td>2.606563</td>\n",
       "      <td>184</td>\n",
       "      <td>9.250759</td>\n",
       "      <td>43.080307</td>\n",
       "    </tr>\n",
       "    <tr>\n",
       "      <th>1</th>\n",
       "      <td>1.323237</td>\n",
       "      <td>91</td>\n",
       "      <td>3.664310</td>\n",
       "      <td>27.780016</td>\n",
       "    </tr>\n",
       "    <tr>\n",
       "      <th>2</th>\n",
       "      <td>22.093692</td>\n",
       "      <td>426</td>\n",
       "      <td>28.781516</td>\n",
       "      <td>44.467748</td>\n",
       "    </tr>\n",
       "    <tr>\n",
       "      <th>3</th>\n",
       "      <td>10.737851</td>\n",
       "      <td>72</td>\n",
       "      <td>4.124642</td>\n",
       "      <td>39.734710</td>\n",
       "    </tr>\n",
       "    <tr>\n",
       "      <th>4</th>\n",
       "      <td>1.161365</td>\n",
       "      <td>46</td>\n",
       "      <td>2.890150</td>\n",
       "      <td>34.650709</td>\n",
       "    </tr>\n",
       "    <tr>\n",
       "      <th>...</th>\n",
       "      <td>...</td>\n",
       "      <td>...</td>\n",
       "      <td>...</td>\n",
       "      <td>...</td>\n",
       "    </tr>\n",
       "    <tr>\n",
       "      <th>564</th>\n",
       "      <td>2.625403</td>\n",
       "      <td>20</td>\n",
       "      <td>1.424376</td>\n",
       "      <td>33.477545</td>\n",
       "    </tr>\n",
       "    <tr>\n",
       "      <th>565</th>\n",
       "      <td>1.276386</td>\n",
       "      <td>61</td>\n",
       "      <td>2.109048</td>\n",
       "      <td>26.300732</td>\n",
       "    </tr>\n",
       "    <tr>\n",
       "      <th>566</th>\n",
       "      <td>1.953869</td>\n",
       "      <td>117</td>\n",
       "      <td>6.241870</td>\n",
       "      <td>41.153979</td>\n",
       "    </tr>\n",
       "    <tr>\n",
       "      <th>567</th>\n",
       "      <td>1.318527</td>\n",
       "      <td>46</td>\n",
       "      <td>7.902237</td>\n",
       "      <td>66.720139</td>\n",
       "    </tr>\n",
       "    <tr>\n",
       "      <th>568</th>\n",
       "      <td>2.832391</td>\n",
       "      <td>161</td>\n",
       "      <td>6.804085</td>\n",
       "      <td>36.618435</td>\n",
       "    </tr>\n",
       "  </tbody>\n",
       "</table>\n",
       "<p>569 rows × 4 columns</p>\n",
       "</div>"
      ],
      "text/plain": [
       "       capital  labour     output       wage\n",
       "0     2.606563     184   9.250759  43.080307\n",
       "1     1.323237      91   3.664310  27.780016\n",
       "2    22.093692     426  28.781516  44.467748\n",
       "3    10.737851      72   4.124642  39.734710\n",
       "4     1.161365      46   2.890150  34.650709\n",
       "..         ...     ...        ...        ...\n",
       "564   2.625403      20   1.424376  33.477545\n",
       "565   1.276386      61   2.109048  26.300732\n",
       "566   1.953869     117   6.241870  41.153979\n",
       "567   1.318527      46   7.902237  66.720139\n",
       "568   2.832391     161   6.804085  36.618435\n",
       "\n",
       "[569 rows x 4 columns]"
      ]
     },
     "execution_count": 2,
     "metadata": {},
     "output_type": "execute_result"
    }
   ],
   "source": [
    "df = pd.read_csv('https://raw.githubusercontent.com/artamonoff/Econometrica/master/python-notebooks/data-csv/Labour.csv')\n",
    "df"
   ]
  },
  {
   "cell_type": "code",
   "execution_count": 3,
   "id": "db821597",
   "metadata": {},
   "outputs": [
    {
     "data": {
      "text/plain": [
       "<AxesSubplot:xlabel='capital', ylabel='output'>"
      ]
     },
     "execution_count": 3,
     "metadata": {},
     "output_type": "execute_result"
    },
    {
     "data": {
      "image/png": "[encoded data removed]",
      "text/plain": [
       "<Figure size 432x288 with 1 Axes>"
      ]
     },
     "metadata": {
      "needs_background": "light"
     },
     "output_type": "display_data"
    }
   ],
   "source": [
    "sns.regplot(data=df, x='capital', y='output', ci=None, color = 'green', line_kws={\"color\": \"black\"})"
   ]
  },
  {
   "cell_type": "code",
   "execution_count": 4,
   "id": "730c63d6",
   "metadata": {},
   "outputs": [
    {
     "data": {
      "text/plain": [
       "Intercept    6.19\n",
       "capital      0.74\n",
       "dtype: float64"
      ]
     },
     "execution_count": 4,
     "metadata": {},
     "output_type": "execute_result"
    }
   ],
   "source": [
    "# найдем параметры оптимальной прямой output на capital\n",
    "# подгонка прямой\n",
    "fitted_line = smf.ols(formula='output~capital', data=df).fit()\n",
    "# коэффициенты с округлением\n",
    "fitted_line.params.round(2)"
   ]
  },
  {
   "cell_type": "markdown",
   "id": "d0179efe",
   "metadata": {},
   "source": [
    "# Спецификация\n",
    "$$ output=6.19+0.74*capital$$"
   ]
  },
  {
   "cell_type": "code",
   "execution_count": 5,
   "id": "7dbeb041",
   "metadata": {},
   "outputs": [
    {
     "data": {
      "text/plain": [
       "capital    0.75\n",
       "dtype: float64"
      ]
     },
     "execution_count": 5,
     "metadata": {},
     "output_type": "execute_result"
    }
   ],
   "source": [
    "# найдем параметры оптимальной прямой output на capital без константы\n",
    "fitted_line = smf.ols(formula='output~-1+capital', data=df).fit()\n",
    "fitted_line.params.round(2)"
   ]
  },
  {
   "cell_type": "markdown",
   "id": "30af93e1",
   "metadata": {},
   "source": [
    "# Спецификация\n",
    "$$ output=0.75*capital$$"
   ]
  },
  {
   "cell_type": "code",
   "execution_count": 7,
   "id": "d67717c7",
   "metadata": {},
   "outputs": [
    {
     "data": {
      "text/plain": [
       "Intercept          1.19\n",
       "np.log(capital)    0.56\n",
       "dtype: float64"
      ]
     },
     "execution_count": 7,
     "metadata": {},
     "output_type": "execute_result"
    },
    {
     "data": {
      "image/png": "[encoded data removed]",
      "text/plain": [
       "<Figure size 432x288 with 1 Axes>"
      ]
     },
     "metadata": {
      "needs_background": "light"
     },
     "output_type": "display_data"
    }
   ],
   "source": [
    "# построим диаграмму рассеяним log(output) vs log(capital) с ‘подогнанной’ прямой\n",
    "sns.regplot(x=np.log(df['capital']), y=np.log(df['output']), ci=None, color = 'orange', line_kws={\"color\": \"black\"})\n",
    "\n",
    "# найдем параметры оптимальной прямой log(output) на log(capital)\n",
    "# подгонка прямой\n",
    "fitted_line = smf.ols(formula='np.log(output)~np.log(capital)', data=df).fit()\n",
    "# коэффициенты с округлением\n",
    "fitted_line.params.round(2)"
   ]
  },
  {
   "cell_type": "markdown",
   "id": "334501df",
   "metadata": {},
   "source": [
    "# Спецификация\n",
    "$$ log(output)=1.19+0.56*log(capital)$$"
   ]
  },
  {
   "cell_type": "code",
   "execution_count": 9,
   "id": "a27f88b9",
   "metadata": {},
   "outputs": [
    {
     "data": {
      "text/plain": [
       "np.log(capital)    0.88\n",
       "dtype: float64"
      ]
     },
     "execution_count": 9,
     "metadata": {},
     "output_type": "execute_result"
    }
   ],
   "source": [
    "# найдем параметры оптимальной прямой log(output) на log(capital) без константы\n",
    "fitted_line = smf.ols(formula='np.log(output)~-1+np.log(capital)', data=df).fit()\n",
    "fitted_line.params.round(2)"
   ]
  },
  {
   "cell_type": "markdown",
   "id": "23fbc574",
   "metadata": {},
   "source": [
    "# Спецификация\n",
    "$$ log(output)=0.88*log(capital)$$"
   ]
  },
  {
   "cell_type": "markdown",
   "id": "c2514d77",
   "metadata": {},
   "source": [
    "# Пример 2.2.2"
   ]
  },
  {
   "cell_type": "code",
   "execution_count": 10,
   "id": "77083d1a",
   "metadata": {},
   "outputs": [
    {
     "data": {
      "text/plain": [
       "Intercept   -4.72\n",
       "labour       0.10\n",
       "dtype: float64"
      ]
     },
     "execution_count": 10,
     "metadata": {},
     "output_type": "execute_result"
    },
    {
     "data": {
      "image/png": "[encoded data removed]",
      "text/plain": [
       "<Figure size 432x288 with 1 Axes>"
      ]
     },
     "metadata": {
      "needs_background": "light"
     },
     "output_type": "display_data"
    }
   ],
   "source": [
    "# построим диаграмму рассеяним output vs labour с ‘подогнанной’ прямой\n",
    "sns.regplot(data=df, x='labour', y='output', ci=None, color = 'purple', line_kws={\"color\": \"black\"})\n",
    "# найдем параметры оптимальной прямой output на labour\n",
    "# подгонка прямой\n",
    "fitted_line = smf.ols(formula='output~labour', data=df).fit()\n",
    "# коэффициенты с округлением\n",
    "fitted_line.params.round(2)"
   ]
  },
  {
   "cell_type": "markdown",
   "id": "1cd80afb",
   "metadata": {},
   "source": [
    "# Спецификация\n",
    "$$ output=-4.72+0.10*labour$$"
   ]
  },
  {
   "cell_type": "code",
   "execution_count": 11,
   "id": "b4d0cec6",
   "metadata": {},
   "outputs": [
    {
     "data": {
      "text/plain": [
       "labour    0.09\n",
       "dtype: float64"
      ]
     },
     "execution_count": 11,
     "metadata": {},
     "output_type": "execute_result"
    }
   ],
   "source": [
    "# параметры оптимальной прямой output на labour без константы\n",
    "fitted_line = smf.ols(formula='output~-1+labour', data=df).fit()\n",
    "fitted_line.params.round(2)"
   ]
  },
  {
   "cell_type": "markdown",
   "id": "b6cc236a",
   "metadata": {},
   "source": [
    "# Спецификация\n",
    "$$ output=0.09*labour$$"
   ]
  },
  {
   "cell_type": "code",
   "execution_count": 12,
   "id": "b1b1c704",
   "metadata": {},
   "outputs": [
    {
     "data": {
      "text/plain": [
       "Intercept        -2.38\n",
       "np.log(labour)    0.90\n",
       "dtype: float64"
      ]
     },
     "execution_count": 12,
     "metadata": {},
     "output_type": "execute_result"
    },
    {
     "data": {
      "image/png": "[encoded data removed]",
      "text/plain": [
       "<Figure size 432x288 with 1 Axes>"
      ]
     },
     "metadata": {
      "needs_background": "light"
     },
     "output_type": "display_data"
    }
   ],
   "source": [
    "# построим диаграмму рассеяним log(output) vs log(labour) с ‘подогнанной’ прямой\n",
    "sns.regplot(x=np.log(df['labour']), y=np.log(df['output']), ci=None, color='yellow', line_kws={\"color\": \"black\"})\n",
    "# найдем параметры оптимальной прямой log(output) на log(labour)\n",
    "# подгонка прямой\n",
    "fitted_line = smf.ols(formula='np.log(output)~np.log(labour)', data=df).fit()\n",
    "# коэффициенты с округлением\n",
    "fitted_line.params.round(2)"
   ]
  },
  {
   "cell_type": "markdown",
   "id": "ee4f8a7b",
   "metadata": {},
   "source": [
    "# Спецификация\n",
    "$$ log(output)=-2.38+0.90*log(labour)$$"
   ]
  },
  {
   "cell_type": "code",
   "execution_count": 14,
   "id": "8757c984",
   "metadata": {},
   "outputs": [
    {
     "data": {
      "text/plain": [
       "np.log(labour)    0.41\n",
       "dtype: float64"
      ]
     },
     "execution_count": 14,
     "metadata": {},
     "output_type": "execute_result"
    }
   ],
   "source": [
    "# параметры оптимальной прямой log(output) на log(labour) без константы\n",
    "fitted_line = smf.ols(formula='np.log(output)~-1+np.log(labour)', data=df).fit()\n",
    "fitted_line.params.round(2)"
   ]
  },
  {
   "cell_type": "markdown",
   "id": "ab41b183",
   "metadata": {},
   "source": [
    "# Спецификация\n",
    "$$ log(output)=0.41*log(labour)$$"
   ]
  },
  {
   "cell_type": "markdown",
   "id": "edcb0d93",
   "metadata": {},
   "source": [
    "# Пример 2.2.3"
   ]
  },
  {
   "cell_type": "code",
   "execution_count": 20,
   "id": "c7ea4b19",
   "metadata": {},
   "outputs": [
    {
     "data": {
      "text/plain": [
       "Intercept                  1.09\n",
       "np.log(capital)            0.50\n",
       "I(np.log(capital) ** 2)    0.05\n",
       "dtype: float64"
      ]
     },
     "execution_count": 20,
     "metadata": {},
     "output_type": "execute_result"
    },
    {
     "data": {
      "image/png": "[encoded data removed]",
      "text/plain": [
       "<Figure size 432x288 with 1 Axes>"
      ]
     },
     "metadata": {
      "needs_background": "light"
     },
     "output_type": "display_data"
    }
   ],
   "source": [
    "# построим диаграмму рассеяним log(output) vs log(capital) с ‘подогнанной’ параболой\n",
    "sns.regplot(x=np.log(df['capital']), y=np.log(df['output']), ci=None, order=2, color ='maroon', line_kws={\"color\": \"black\"})\n",
    "\n",
    "# найдем параметры оптимальной параболы log(output) vs log(capital), log2(capital)\n",
    "# подгонка прямой\n",
    "fitted_polynom = smf.ols(formula='np.log(output)~np.log(capital)+I(np.log(capital)**2)', data=df).fit()\n",
    "# коэффициенты с округлением\n",
    "fitted_polynom.params.round(2)"
   ]
  },
  {
   "cell_type": "markdown",
   "id": "47da1dca",
   "metadata": {},
   "source": [
    "# Спецификация\n",
    "$$ log(output)=1.09+0.50*log(capital)+0.05*log^2(capital) $$"
   ]
  },
  {
   "cell_type": "markdown",
   "id": "9718f2fa",
   "metadata": {},
   "source": [
    "# Пример 2.2.4"
   ]
  },
  {
   "cell_type": "code",
   "execution_count": 25,
   "id": "251845ff",
   "metadata": {},
   "outputs": [
    {
     "data": {
      "text/plain": [
       "Intercept                -1.28\n",
       "np.log(labour)            0.37\n",
       "I(np.log(labour) ** 2)    0.06\n",
       "dtype: float64"
      ]
     },
     "execution_count": 25,
     "metadata": {},
     "output_type": "execute_result"
    },
    {
     "data": {
      "image/png": "[encoded data removed]",
      "text/plain": [
       "<Figure size 432x288 with 1 Axes>"
      ]
     },
     "metadata": {
      "needs_background": "light"
     },
     "output_type": "display_data"
    }
   ],
   "source": [
    "#построим диаграмму рассеяним log(output) vs log(labour) с ‘подогнанной’ параболой\n",
    "sns.regplot(x=np.log(df['labour']), y=np.log(df['output']), order = 2, ci=None, color = 'cyan', line_kws={\"color\": \"black\"}) \n",
    "\n",
    "#найдем параметры оптимальной параболы log(output) vs log(labour), log2(labour)\n",
    "# подгонка прямой\n",
    "fitted_polynom = smf.ols(formula='np.log(output)~np.log(labour)+I(np.log(labour)**2)', data=df).fit()\n",
    "# коэффициенты с округлением\n",
    "fitted_polynom.params.round(2)"
   ]
  },
  {
   "cell_type": "markdown",
   "id": "5f72b039",
   "metadata": {},
   "source": [
    "# Спецификация\n",
    "$$ log(output)=-1.28+0.37*log(labour)+0.06*log^2(labour) $$"
   ]
  },
  {
   "cell_type": "code",
   "execution_count": null,
   "id": "dcfd8983",
   "metadata": {},
   "outputs": [],
   "source": []
  }
 ],
 "metadata": {
  "kernelspec": {
   "display_name": "Python 3 (ipykernel)",
   "language": "python",
   "name": "python3"
  },
  "language_info": {
   "codemirror_mode": {
    "name": "ipython",
    "version": 3
   },
   "file_extension": ".py",
   "mimetype": "text/x-python",
   "name": "python",
   "nbconvert_exporter": "python",
   "pygments_lexer": "ipython3",
   "version": "3.9.7"
  }
 },
 "nbformat": 4,
 "nbformat_minor": 5
}
